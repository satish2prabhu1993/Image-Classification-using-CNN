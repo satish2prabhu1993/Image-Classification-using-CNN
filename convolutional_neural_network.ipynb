{
 "cells": [
  {
   "cell_type": "code",
   "execution_count": 1,
   "metadata": {},
   "outputs": [],
   "source": [
    "import tensorflow as tf\n",
    "gpus= tf.config.experimental.list_physical_devices('GPU')\n",
    "tf.config.experimental.set_memory_growth(gpus[0], True)"
   ]
  },
  {
   "cell_type": "markdown",
   "metadata": {
    "colab_type": "text",
    "id": "EMefrVPCg-60"
   },
   "source": [
    "### Importing the libraries"
   ]
  },
  {
   "cell_type": "code",
   "execution_count": 2,
   "metadata": {},
   "outputs": [],
   "source": [
    "import tensorflow as tf\n",
    "from tensorflow.keras.preprocessing import image\n",
    "from tensorflow.keras.layers import Dense, Conv2D, MaxPool2D, Flatten\n",
    "from tensorflow.keras.preprocessing.image import ImageDataGenerator\n",
    "from tensorflow.keras.models import Sequential"
   ]
  },
  {
   "cell_type": "markdown",
   "metadata": {
    "colab_type": "text",
    "id": "oxQxCBWyoGPE"
   },
   "source": [
    "## Image Data Preprocessing"
   ]
  },
  {
   "cell_type": "code",
   "execution_count": 3,
   "metadata": {},
   "outputs": [
    {
     "name": "stdout",
     "output_type": "stream",
     "text": [
      "Found 8000 images belonging to 2 classes.\n"
     ]
    }
   ],
   "source": [
    "generator = ImageDataGenerator(rescale=1./255,\n",
    "                              shear_range=0.2,\n",
    "                              zoom_range= 0.2,\n",
    "                              horizontal_flip= True)\n",
    "\n",
    "training_set = generator.flow_from_directory('dataset/training_set/',\n",
    "        target_size=(64,64),\n",
    "        batch_size=32,\n",
    "        class_mode='binary')"
   ]
  },
  {
   "cell_type": "code",
   "execution_count": 4,
   "metadata": {},
   "outputs": [
    {
     "name": "stdout",
     "output_type": "stream",
     "text": [
      "Found 2000 images belonging to 2 classes.\n"
     ]
    }
   ],
   "source": [
    "\n",
    "generator_test = ImageDataGenerator(rescale= 1./255)\n",
    "test_set = generator_test.flow_from_directory('dataset/test_set/',\n",
    "                                         target_size = (64,64),\n",
    "                                         batch_size = 32,\n",
    "                                         class_mode = 'binary')"
   ]
  },
  {
   "cell_type": "markdown",
   "metadata": {
    "colab_type": "text",
    "id": "af8O4l90gk7B"
   },
   "source": [
    "## Building the CNN"
   ]
  },
  {
   "cell_type": "code",
   "execution_count": 6,
   "metadata": {},
   "outputs": [],
   "source": [
    "cnn = Sequential()\n",
    "cnn.add(Conv2D(input_shape = (64,64,3),activation = 'relu',filters = 32, kernel_size = 3))\n",
    "cnn.add(MaxPool2D(pool_size = 2,strides = 2))\n",
    "cnn.add(Conv2D(activation = 'relu',filters = 32, kernel_size = 3))\n",
    "cnn.add(MaxPool2D(pool_size = 2,strides = 2))\n",
    "\n",
    "cnn.add(Flatten())\n",
    "\n",
    "cnn.add(Dense(units = 128, activation = 'relu'))\n",
    "cnn.add(Dense(1,activation = 'sigmoid'))\n",
    "\n",
    "cnn.compile(optimizer = 'adam', loss = 'binary_crossentropy',metrics = ['accuracy'])\n"
   ]
  },
  {
   "cell_type": "markdown",
   "metadata": {
    "colab_type": "text",
    "id": "D6XkI90snSDl"
   },
   "source": [
    "## Training the CNN"
   ]
  },
  {
   "cell_type": "code",
   "execution_count": 7,
   "metadata": {},
   "outputs": [
    {
     "name": "stdout",
     "output_type": "stream",
     "text": [
      "Epoch 1/25\n",
      "250/250 [==============================] - 41s 140ms/step - loss: 0.6949 - accuracy: 0.5471 - val_loss: 0.6011 - val_accuracy: 0.6885\n",
      "Epoch 2/25\n",
      "250/250 [==============================] - 34s 135ms/step - loss: 0.6102 - accuracy: 0.6620 - val_loss: 0.6303 - val_accuracy: 0.6655\n",
      "Epoch 3/25\n",
      "250/250 [==============================] - 34s 137ms/step - loss: 0.5637 - accuracy: 0.7029 - val_loss: 0.6489 - val_accuracy: 0.6450\n",
      "Epoch 4/25\n",
      "250/250 [==============================] - 34s 136ms/step - loss: 0.5276 - accuracy: 0.7325 - val_loss: 0.5517 - val_accuracy: 0.7265\n",
      "Epoch 5/25\n",
      "250/250 [==============================] - 35s 141ms/step - loss: 0.5016 - accuracy: 0.7451 - val_loss: 0.5202 - val_accuracy: 0.7455\n",
      "Epoch 6/25\n",
      "250/250 [==============================] - 34s 137ms/step - loss: 0.4852 - accuracy: 0.7721 - val_loss: 0.4993 - val_accuracy: 0.7630\n",
      "Epoch 7/25\n",
      "250/250 [==============================] - 34s 136ms/step - loss: 0.4778 - accuracy: 0.7760 - val_loss: 0.5281 - val_accuracy: 0.7480\n",
      "Epoch 8/25\n",
      "250/250 [==============================] - 35s 140ms/step - loss: 0.4756 - accuracy: 0.7694 - val_loss: 0.4883 - val_accuracy: 0.7650\n",
      "Epoch 9/25\n",
      "250/250 [==============================] - 35s 140ms/step - loss: 0.4503 - accuracy: 0.7848 - val_loss: 0.4893 - val_accuracy: 0.7695\n",
      "Epoch 10/25\n",
      "250/250 [==============================] - 35s 140ms/step - loss: 0.4351 - accuracy: 0.7921 - val_loss: 0.4835 - val_accuracy: 0.7795\n",
      "Epoch 11/25\n",
      "250/250 [==============================] - 35s 141ms/step - loss: 0.4148 - accuracy: 0.8051 - val_loss: 0.4724 - val_accuracy: 0.7840\n",
      "Epoch 12/25\n",
      "250/250 [==============================] - 37s 148ms/step - loss: 0.4037 - accuracy: 0.8059 - val_loss: 0.4891 - val_accuracy: 0.7755\n",
      "Epoch 13/25\n",
      "250/250 [==============================] - 35s 142ms/step - loss: 0.3984 - accuracy: 0.8123 - val_loss: 0.5173 - val_accuracy: 0.7625\n",
      "Epoch 14/25\n",
      "250/250 [==============================] - 36s 143ms/step - loss: 0.3880 - accuracy: 0.8222 - val_loss: 0.4608 - val_accuracy: 0.7975\n",
      "Epoch 15/25\n",
      "250/250 [==============================] - 35s 142ms/step - loss: 0.3849 - accuracy: 0.8271 - val_loss: 0.4832 - val_accuracy: 0.7870\n",
      "Epoch 16/25\n",
      "250/250 [==============================] - 36s 142ms/step - loss: 0.3737 - accuracy: 0.8309 - val_loss: 0.4745 - val_accuracy: 0.8025\n",
      "Epoch 17/25\n",
      "250/250 [==============================] - 36s 144ms/step - loss: 0.3546 - accuracy: 0.8392 - val_loss: 0.4963 - val_accuracy: 0.7900\n",
      "Epoch 18/25\n",
      "250/250 [==============================] - 37s 148ms/step - loss: 0.3439 - accuracy: 0.8503 - val_loss: 0.4543 - val_accuracy: 0.8025\n",
      "Epoch 19/25\n",
      "250/250 [==============================] - 37s 149ms/step - loss: 0.3407 - accuracy: 0.8470 - val_loss: 0.5200 - val_accuracy: 0.7950\n",
      "Epoch 20/25\n",
      "250/250 [==============================] - 36s 145ms/step - loss: 0.3245 - accuracy: 0.8523 - val_loss: 0.4936 - val_accuracy: 0.7935\n",
      "Epoch 21/25\n",
      "250/250 [==============================] - 37s 149ms/step - loss: 0.3443 - accuracy: 0.8472 - val_loss: 0.4586 - val_accuracy: 0.8105\n",
      "Epoch 22/25\n",
      "250/250 [==============================] - 37s 149ms/step - loss: 0.3049 - accuracy: 0.8649 - val_loss: 0.4784 - val_accuracy: 0.8045\n",
      "Epoch 23/25\n",
      "250/250 [==============================] - 37s 149ms/step - loss: 0.2948 - accuracy: 0.8716 - val_loss: 0.4684 - val_accuracy: 0.8165\n",
      "Epoch 24/25\n",
      "250/250 [==============================] - 37s 149ms/step - loss: 0.2752 - accuracy: 0.8844 - val_loss: 0.4680 - val_accuracy: 0.8010\n",
      "Epoch 25/25\n",
      "250/250 [==============================] - 37s 149ms/step - loss: 0.2881 - accuracy: 0.8768 - val_loss: 0.5179 - val_accuracy: 0.8010\n"
     ]
    },
    {
     "data": {
      "text/plain": [
       "<tensorflow.python.keras.callbacks.History at 0x2b11b211c10>"
      ]
     },
     "execution_count": 7,
     "metadata": {},
     "output_type": "execute_result"
    }
   ],
   "source": [
    "cnn.fit(training_set,validation_data=test_set,epochs=25)"
   ]
  },
  {
   "cell_type": "markdown",
   "metadata": {
    "colab_type": "text",
    "id": "U3PZasO0006Z"
   },
   "source": [
    "## Making single prediction"
   ]
  },
  {
   "cell_type": "code",
   "execution_count": 8,
   "metadata": {},
   "outputs": [
    {
     "name": "stdout",
     "output_type": "stream",
     "text": [
      "Dogs\n"
     ]
    }
   ],
   "source": [
    "test_image = tf.keras.preprocessing.image.load_img('dataset/single_prediction/cat_or_dog_1.jpg',\n",
    "                                                  target_size = (64,64))\n",
    "\n",
    "test_array = tf.keras.preprocessing.image.img_to_array(test_image)\n",
    "test_array = np.expand_dims(test_array, axis = 0)\n",
    "res = cnn.predict(test_array)\n",
    "\n",
    "training_set.class_indices\n",
    "\n",
    "if(res == 1):\n",
    "    print('Dogs')\n",
    "else:\n",
    "    print('Cats')"
   ]
  },
  {
   "cell_type": "markdown",
   "metadata": {},
   "source": [
    "## Save the model"
   ]
  },
  {
   "cell_type": "code",
   "execution_count": 31,
   "metadata": {},
   "outputs": [
    {
     "name": "stdout",
     "output_type": "stream",
     "text": [
      "INFO:tensorflow:Assets written to: /model/cat_or_dog_model\\assets\n"
     ]
    }
   ],
   "source": [
    "cnn.save('/model/cat_or_dog_model')"
   ]
  },
  {
   "cell_type": "code",
   "execution_count": 32,
   "metadata": {},
   "outputs": [],
   "source": [
    "from numba import cuda \n",
    "device = cuda.get_current_device()\n",
    "device.reset()"
   ]
  }
 ],
 "metadata": {
  "colab": {
   "collapsed_sections": [],
   "name": "convolutional_neural_network.ipynb",
   "provenance": [],
   "toc_visible": true
  },
  "kernelspec": {
   "display_name": "tf-gpu",
   "language": "python",
   "name": "tf-gpu"
  },
  "language_info": {
   "codemirror_mode": {
    "name": "ipython",
    "version": 3
   },
   "file_extension": ".py",
   "mimetype": "text/x-python",
   "name": "python",
   "nbconvert_exporter": "python",
   "pygments_lexer": "ipython3",
   "version": "3.8.5"
  },
  "varInspector": {
   "cols": {
    "lenName": 16,
    "lenType": 16,
    "lenVar": 40
   },
   "kernels_config": {
    "python": {
     "delete_cmd_postfix": "",
     "delete_cmd_prefix": "del ",
     "library": "var_list.py",
     "varRefreshCmd": "print(var_dic_list())"
    },
    "r": {
     "delete_cmd_postfix": ") ",
     "delete_cmd_prefix": "rm(",
     "library": "var_list.r",
     "varRefreshCmd": "cat(var_dic_list()) "
    }
   },
   "types_to_exclude": [
    "module",
    "function",
    "builtin_function_or_method",
    "instance",
    "_Feature"
   ],
   "window_display": false
  }
 },
 "nbformat": 4,
 "nbformat_minor": 1
}
